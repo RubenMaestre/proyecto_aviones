{
 "cells": [
  {
   "cell_type": "code",
   "execution_count": 1,
   "metadata": {},
   "outputs": [],
   "source": [
    "import pandas as pd\n",
    "import datetime as dt\n",
    "import numpy as np\n",
    "import datetime as dt\n",
    "import plotly.express as px\n",
    "import seaborn as sns\n",
    "import matplotlib.pyplot as plt\n",
    "import os\n",
    "import re\n",
    "import requests\n",
    "import folium"
   ]
  },
  {
   "cell_type": "code",
   "execution_count": 2,
   "metadata": {},
   "outputs": [],
   "source": [
    "df = pd.read_pickle(\"C:/Users/34670/Desktop/python/Hack a boss/proyecto_3/streamlit/proyecto_aviones/data/pickle/vuelos_limpio.pkl\")"
   ]
  },
  {
   "cell_type": "code",
   "execution_count": 3,
   "metadata": {},
   "outputs": [
    {
     "name": "stdout",
     "output_type": "stream",
     "text": [
      "Index(['aerolinea', 'fecha', 'numero_vuelo', 'numero_cola',\n",
      "       'hora_salida_programada', 'hora_salida_real',\n",
      "       'duracion_programada_vuelo', 'duracion_real', 'retraso_salida',\n",
      "       'hora_despegue', 'tiempo_pista_salida', 'tiempo_retraso_aerolinea',\n",
      "       'tiempo_retraso_clima', 'tiempo_retraso_sistema_aviacion',\n",
      "       'tiempo_retraso_seguridad', 'retraso_llegada', 'ciudad_origen',\n",
      "       'estado_origen', 'aeropuerto_origen', 'codigo_aeropuerto_origen',\n",
      "       'direccion_origen', 'latitude_origen', 'longitude_origen',\n",
      "       'hora_llegada_real', 'dia_semana', 'anio', 'mes', 'fin_de_semana',\n",
      "       'festivos', 'ciudad_destino', 'estado_destino', 'aeropuerto_destino',\n",
      "       'codigo_aeropuerto_destino', 'direccion_destino', 'latitude_destino',\n",
      "       'longitude_destino', 'distancia_millas'],\n",
      "      dtype='object')\n"
     ]
    }
   ],
   "source": [
    "print(df.columns)"
   ]
  },
  {
   "cell_type": "code",
   "execution_count": 7,
   "metadata": {},
   "outputs": [
    {
     "name": "stdout",
     "output_type": "stream",
     "text": [
      "                            aeropuerto_origen codigo_aeropuerto_origen  \\\n",
      "0                            Abilene Regional                      ABI   \n",
      "1                       Akron-Canton Regional                      CAK   \n",
      "2    Hartsfield-Jackson Atlanta International                      ATL   \n",
      "3    Jackson Medgar Wiley Evers International                      JAN   \n",
      "4                  Jacksonville International                      JAX   \n",
      "..                                        ...                      ...   \n",
      "358                     Long Island MacArthur                      ISP   \n",
      "359             Ithaca Tompkins International                      ITH   \n",
      "360                              Jackson Hole                      JAC   \n",
      "361                         Aberdeen Regional                      ABR   \n",
      "362                               Garden City                      GCK   \n",
      "\n",
      "         ciudad_origen estado_origen latitude_origen longitude_origen  \\\n",
      "0              Abilene            TX        32.45095       -99.735678   \n",
      "1                Akron            OH       41.080564       -81.519677   \n",
      "2              Atlanta            GA       33.640846       -84.432594   \n",
      "3    Jackson/Vicksburg            MS       32.353325       -90.880255   \n",
      "4         Jacksonville            FL       30.328992       -81.657959   \n",
      "..                 ...           ...             ...              ...   \n",
      "358              Islip            NY       40.729149       -73.212623   \n",
      "359    Ithaca/Cortland            NY       42.600067       -76.180802   \n",
      "360            Jackson            WY        43.47933      -110.763018   \n",
      "361           Aberdeen            SD       45.463981       -98.487868   \n",
      "362        Garden City   Garden City        37.97747      -100.858105   \n",
      "\n",
      "                                      direccion_origen  \n",
      "0          202 Cedar St (North 2nd), Abilene, TX 79601  \n",
      "1                       182 S Main St, Akron, OH 44308  \n",
      "2    6000 N Terminal Pkwy (at Airport Loop Rd), Atl...  \n",
      "3                   923 Walnut St, Vicksburg, MS 39183  \n",
      "4    303 N Laura St (Duval St.), Jacksonville, FL 3...  \n",
      "..                                                 ...  \n",
      "358                       560 Main St, Islip, NY 11751  \n",
      "359                     36 Main St, Cortland, NY 13045  \n",
      "360               50 W Broadway Ave, Jackson, WY 83001  \n",
      "361              103 1/2 S Main St, Aberdeen, SD 57401  \n",
      "362              1224 Center St, Garden City, KS 67846  \n",
      "\n",
      "[363 rows x 7 columns]\n"
     ]
    }
   ],
   "source": [
    "# Aseguramos que las columnas tengan el mismo nombre para poder concatenar adecuadamente\n",
    "df_origen = df[['aeropuerto_origen', 'codigo_aeropuerto_origen', 'ciudad_origen', 'estado_origen', 'latitude_origen', 'longitude_origen', 'direccion_origen']].copy()\n",
    "df_destino = df[['aeropuerto_destino', 'codigo_aeropuerto_destino', 'ciudad_destino', 'estado_destino', 'latitude_destino', 'longitude_destino', 'direccion_destino']].copy()\n",
    "\n",
    "# Renombramos las columnas de df_destino para que coincidan con las de df_origen, respetando los nombres originales incluyendo errores tipográficos\n",
    "df_destino.rename(columns={\n",
    "    'aeropuerto_destino': 'aeropuerto_origen', \n",
    "    'codigo_aeropuerto_destino': 'codigo_aeropuerto_origen',\n",
    "    'ciudad_destino': 'ciudad_origen', \n",
    "    'estado_destino': 'estado_origen', \n",
    "    'latitude_destino': 'latitude_origen', \n",
    "    'longitude_destino': 'longitude_origen', \n",
    "    'direccion_destino': 'direccion_origen'\n",
    "}, inplace=True)\n",
    "\n",
    "# Concatenamos los DataFrames\n",
    "df_aeropuertos_concatenados = pd.concat([df_origen, df_destino])\n",
    "\n",
    "# Eliminamos los duplicados basándonos en la columna de aeropuertos y códigos de aeropuertos para asegurar la unicidad\n",
    "# Aquí usamos 'codigo_aeropueto_origen' para el drop_duplicates, respetando el error tipográfico\n",
    "df_aeropuertos_unicos = df_aeropuertos_concatenados.drop_duplicates(subset=['aeropuerto_origen', 'codigo_aeropuerto_origen'])\n",
    "\n",
    "# Restablecemos el índice\n",
    "df_aeropuertos_unicos.reset_index(drop=True, inplace=True)\n",
    "\n",
    "print(df_aeropuertos_unicos)"
   ]
  },
  {
   "cell_type": "code",
   "execution_count": 11,
   "metadata": {},
   "outputs": [
    {
     "name": "stdout",
     "output_type": "stream",
     "text": [
      "Index(['nombre_aeropuerto', 'codigo_aeropuerto', 'ciudad', 'estado',\n",
      "       'latitude', 'longitude', 'direccion'],\n",
      "      dtype='object')\n"
     ]
    },
    {
     "name": "stderr",
     "output_type": "stream",
     "text": [
      "C:\\Users\\34670\\AppData\\Local\\Temp\\ipykernel_10212\\3197224936.py:1: SettingWithCopyWarning: \n",
      "A value is trying to be set on a copy of a slice from a DataFrame\n",
      "\n",
      "See the caveats in the documentation: https://pandas.pydata.org/pandas-docs/stable/user_guide/indexing.html#returning-a-view-versus-a-copy\n",
      "  df_aeropuertos_unicos.rename(columns={\n"
     ]
    }
   ],
   "source": [
    "df_aeropuertos_unicos.rename(columns={\n",
    "    'aeropuerto_origen': 'nombre_aeropuerto',\n",
    "    'codigo_aeropuerto_origen': 'codigo_aeropuerto',\n",
    "    'ciudad_origen': 'ciudad',\n",
    "    'estado_origen': 'estado',\n",
    "    'latitude_origen': 'latitude',\n",
    "    'longitude_origen': 'longitude',\n",
    "    'direccion_origen': 'direccion'\n",
    "}, inplace=True)\n",
    "\n",
    "print(df_aeropuertos_unicos.columns)"
   ]
  },
  {
   "cell_type": "code",
   "execution_count": 12,
   "metadata": {},
   "outputs": [],
   "source": [
    "df_aeropuertos_unicos.to_pickle('C:/Users/34670/Desktop/python/Hack a boss/proyecto_3/streamlit/proyecto_aviones/data/aeropuertos_unicos.pkl')"
   ]
  }
 ],
 "metadata": {
  "kernelspec": {
   "display_name": "Python 3",
   "language": "python",
   "name": "python3"
  },
  "language_info": {
   "codemirror_mode": {
    "name": "ipython",
    "version": 3
   },
   "file_extension": ".py",
   "mimetype": "text/x-python",
   "name": "python",
   "nbconvert_exporter": "python",
   "pygments_lexer": "ipython3",
   "version": "3.11.9"
  }
 },
 "nbformat": 4,
 "nbformat_minor": 2
}
