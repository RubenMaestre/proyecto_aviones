{
 "cells": [
  {
   "cell_type": "code",
   "execution_count": 1,
   "metadata": {},
   "outputs": [],
   "source": [
    "import pandas as pd\n",
    "import datetime as dt\n",
    "import numpy as np\n",
    "import datetime as dt\n",
    "import plotly.express as px\n",
    "import seaborn as sns\n",
    "import matplotlib.pyplot as plt\n",
    "import os\n",
    "import re\n",
    "import requests\n",
    "import folium"
   ]
  },
  {
   "cell_type": "code",
   "execution_count": 2,
   "metadata": {},
   "outputs": [],
   "source": [
    "df = pd.read_pickle(r'C:/Users/34670/Desktop/python/Hack a boss/proyecto_3/streamlit/proyecto_aviones/data/pickle/vuelos_limpio.pkl')"
   ]
  },
  {
   "cell_type": "code",
   "execution_count": 3,
   "metadata": {},
   "outputs": [
    {
     "name": "stdout",
     "output_type": "stream",
     "text": [
      "             aerolinea\n",
      "0            Envoy Air\n",
      "1     SkyWest Airlines\n",
      "2         PSA Airlines\n",
      "3         Endeavor Air\n",
      "4        Mesa Airlines\n",
      "5   Southwest Airlines\n",
      "6        Allegiant Air\n",
      "7    American Airlines\n",
      "8      Delta Air Lines\n",
      "9    Frontier Airlines\n",
      "10     JetBlue Airways\n",
      "11    Republic Airways\n",
      "12     United Airlines\n",
      "13     Alaska Airlines\n",
      "14   Hawaiian Airlines\n",
      "15         Horizon Air\n",
      "16     Spirit Airlines\n"
     ]
    }
   ],
   "source": [
    "# Extraemos las columnas que nos interesan, en este caso, solamente 'aerolinea'\n",
    "df_aerolineas = df[['aerolinea']].copy()\n",
    "\n",
    "# Eliminamos los duplicados para asegurar la unicidad de las aerolíneas\n",
    "df_aerolineas_unicas = df_aerolineas.drop_duplicates()\n",
    "\n",
    "# Restablecemos el índice\n",
    "df_aerolineas_unicas.reset_index(drop=True, inplace=True)\n",
    "\n",
    "# Mostramos el DataFrame resultante\n",
    "print(df_aerolineas_unicas)\n"
   ]
  },
  {
   "cell_type": "code",
   "execution_count": 5,
   "metadata": {},
   "outputs": [],
   "source": [
    "df_aerolineas_unicas.to_pickle('C:/Users/34670/Desktop/python/Hack a boss/proyecto_3/streamlit/proyecto_aviones/data/aerolineas_unicos.pkl')"
   ]
  }
 ],
 "metadata": {
  "kernelspec": {
   "display_name": "Python 3",
   "language": "python",
   "name": "python3"
  },
  "language_info": {
   "codemirror_mode": {
    "name": "ipython",
    "version": 3
   },
   "file_extension": ".py",
   "mimetype": "text/x-python",
   "name": "python",
   "nbconvert_exporter": "python",
   "pygments_lexer": "ipython3",
   "version": "3.11.9"
  }
 },
 "nbformat": 4,
 "nbformat_minor": 2
}
