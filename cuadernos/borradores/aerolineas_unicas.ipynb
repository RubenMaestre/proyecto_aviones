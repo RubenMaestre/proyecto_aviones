{
 "cells": [
  {
   "cell_type": "code",
   "execution_count": 1,
   "metadata": {},
   "outputs": [],
   "source": [
    "import pandas as pd\n",
    "import datetime as dt\n",
    "import numpy as np\n",
    "import datetime as dt\n",
    "import plotly.express as px\n",
    "import seaborn as sns\n",
    "import matplotlib.pyplot as plt\n",
    "import os\n",
    "import re\n",
    "import requests\n",
    "import folium"
   ]
  },
  {
   "cell_type": "code",
   "execution_count": 2,
   "metadata": {},
   "outputs": [],
   "source": [
    "df = pd.read_pickle(r'C:/Users/34670/Desktop/python/Hack a boss/proyecto_3/streamlit/proyecto_aviones/data/pickle/vuelos_limpio.pkl')"
   ]
  },
  {
   "cell_type": "code",
   "execution_count": 3,
   "metadata": {},
   "outputs": [
    {
     "name": "stdout",
     "output_type": "stream",
     "text": [
      "             aerolinea\n",
      "0            Envoy Air\n",
      "1     SkyWest Airlines\n",
      "2         PSA Airlines\n",
      "3         Endeavor Air\n",
      "4        Mesa Airlines\n",
      "5   Southwest Airlines\n",
      "6        Allegiant Air\n",
      "7    American Airlines\n",
      "8      Delta Air Lines\n",
      "9    Frontier Airlines\n",
      "10     JetBlue Airways\n",
      "11    Republic Airways\n",
      "12     United Airlines\n",
      "13     Alaska Airlines\n",
      "14   Hawaiian Airlines\n",
      "15         Horizon Air\n",
      "16     Spirit Airlines\n"
     ]
    }
   ],
   "source": [
    "# Extraemos las columnas que nos interesan, en este caso, solamente 'aerolinea'\n",
    "df_aerolineas = df[['aerolinea']].copy()\n",
    "\n",
    "# Eliminamos los duplicados para asegurar la unicidad de las aerolíneas\n",
    "df_aerolineas_unicas = df_aerolineas.drop_duplicates()\n",
    "\n",
    "# Restablecemos el índice\n",
    "df_aerolineas_unicas.reset_index(drop=True, inplace=True)\n",
    "\n",
    "# Mostramos el DataFrame resultante\n",
    "print(df_aerolineas_unicas)\n"
   ]
  },
  {
   "cell_type": "code",
   "execution_count": 6,
   "metadata": {},
   "outputs": [
    {
     "name": "stderr",
     "output_type": "stream",
     "text": [
      "C:\\Users\\34670\\AppData\\Local\\Temp\\ipykernel_14420\\4216742747.py:41: SettingWithCopyWarning: \n",
      "A value is trying to be set on a copy of a slice from a DataFrame.\n",
      "Try using .loc[row_indexer,col_indexer] = value instead\n",
      "\n",
      "See the caveats in the documentation: https://pandas.pydata.org/pandas-docs/stable/user_guide/indexing.html#returning-a-view-versus-a-copy\n",
      "  df_aerolineas_unicas.at[index, 'Resumen'] = resumen\n",
      "C:\\Users\\34670\\AppData\\Local\\Temp\\ipykernel_14420\\4216742747.py:42: SettingWithCopyWarning: \n",
      "A value is trying to be set on a copy of a slice from a DataFrame.\n",
      "Try using .loc[row_indexer,col_indexer] = value instead\n",
      "\n",
      "See the caveats in the documentation: https://pandas.pydata.org/pandas-docs/stable/user_guide/indexing.html#returning-a-view-versus-a-copy\n",
      "  df_aerolineas_unicas.at[index, 'Imagen_URL'] = imagen_url\n"
     ]
    },
    {
     "name": "stdout",
     "output_type": "stream",
     "text": [
      "          aerolinea                                            Resumen  \\\n",
      "0         Envoy Air  Envoy Air[2]​ (anteriormente American Eagle Ai...   \n",
      "1  SkyWest Airlines  SkyWest Airlines, Inc. es una de las dos aerol...   \n",
      "2      PSA Airlines                                                      \n",
      "3      Endeavor Air                                                      \n",
      "4     Mesa Airlines  Mesa Airlines, Inc. (NASDAQ: MESA) es una aero...   \n",
      "\n",
      "                                          Imagen_URL  \n",
      "0  https://upload.wikimedia.org/wikipedia/commons...  \n",
      "1  https://upload.wikimedia.org/wikipedia/commons...  \n",
      "2                                                     \n",
      "3                                                     \n",
      "4  https://upload.wikimedia.org/wikipedia/commons...  \n"
     ]
    }
   ],
   "source": [
    "import requests\n",
    "import pandas as pd\n",
    "\n",
    "def obtener_info_wikipedia(titulo):\n",
    "    S = requests.Session()\n",
    "    URL = \"https://es.wikipedia.org/w/api.php\"\n",
    "\n",
    "    # Obtener el resumen de la página\n",
    "    RESUMEN_PARAMS = {\n",
    "        \"action\": \"query\",\n",
    "        \"format\": \"json\",\n",
    "        \"titles\": titulo,\n",
    "        \"prop\": \"extracts\",\n",
    "        \"exintro\": True,\n",
    "        \"explaintext\": True,\n",
    "    }\n",
    "\n",
    "    resumen_response = S.get(url=URL, params=RESUMEN_PARAMS)\n",
    "    resumen_data = resumen_response.json()\n",
    "\n",
    "    # Obtener la URL de la imagen principal de la página\n",
    "    IMAGEN_PARAMS = {\n",
    "        \"action\": \"query\",\n",
    "        \"format\": \"json\",\n",
    "        \"titles\": titulo,\n",
    "        \"prop\": \"pageimages\",\n",
    "        \"pithumbsize\": 500  # Tamaño de la miniatura de la imagen\n",
    "    }\n",
    "\n",
    "    imagen_response = S.get(url=URL, params=IMAGEN_PARAMS)\n",
    "    imagen_data = imagen_response.json()\n",
    "\n",
    "    resumen = list(resumen_data['query']['pages'].values())[0].get('extract', '')\n",
    "    imagen_url = list(imagen_data['query']['pages'].values())[0].get('thumbnail', {}).get('source', '')\n",
    "\n",
    "    return resumen, imagen_url\n",
    "\n",
    "# Ejemplo de cómo aplicar la función a tu DataFrame df_aerolineas_unicas\n",
    "for index, row in df_aerolineas_unicas.iterrows():\n",
    "    resumen, imagen_url = obtener_info_wikipedia(row['aerolinea'])\n",
    "    df_aerolineas_unicas.at[index, 'Resumen'] = resumen\n",
    "    df_aerolineas_unicas.at[index, 'Imagen_URL'] = imagen_url\n",
    "\n",
    "# Verificar el DataFrame actualizado\n",
    "print(df_aerolineas_unicas.head())\n"
   ]
  },
  {
   "cell_type": "code",
   "execution_count": 4,
   "metadata": {},
   "outputs": [],
   "source": [
    "df_aerolineas_unicas.to_pickle('C:/Users/34670/Desktop/python/Hack a boss/proyecto_3/streamlit/proyecto_aviones/data/aerolineas_unicos.pkl')"
   ]
  },
  {
   "cell_type": "code",
   "execution_count": 7,
   "metadata": {},
   "outputs": [],
   "source": [
    "def obtener_info_wikipedia(titulo, idioma='es'):\n",
    "    S = requests.Session()\n",
    "    URL = f\"https://{idioma}.wikipedia.org/w/api.php\"\n",
    "\n",
    "    # Obtener el resumen de la página\n",
    "    RESUMEN_PARAMS = {\n",
    "        \"action\": \"query\",\n",
    "        \"format\": \"json\",\n",
    "        \"titles\": titulo,\n",
    "        \"prop\": \"extracts\",\n",
    "        \"exintro\": True,\n",
    "        \"explaintext\": True,\n",
    "    }\n",
    "\n",
    "    resumen_response = S.get(url=URL, params=RESUMEN_PARAMS)\n",
    "    resumen_data = resumen_response.json()\n",
    "\n",
    "    # Obtener la URL de la imagen principal de la página\n",
    "    IMAGEN_PARAMS = {\n",
    "        \"action\": \"query\",\n",
    "        \"format\": \"json\",\n",
    "        \"titles\": titulo,\n",
    "        \"prop\": \"pageimages\",\n",
    "        \"pithumbsize\": 500  # Tamaño de la miniatura de la imagen\n",
    "    }\n",
    "\n",
    "    imagen_response = S.get(url=URL, params=IMAGEN_PARAMS)\n",
    "    imagen_data = imagen_response.json()\n",
    "\n",
    "    resumen = list(resumen_data['query']['pages'].values())[0].get('extract', '')\n",
    "    imagen_url = list(imagen_data['query']['pages'].values())[0].get('thumbnail', {}).get('source', '')\n",
    "\n",
    "    return resumen, imagen_url"
   ]
  },
  {
   "cell_type": "code",
   "execution_count": 10,
   "metadata": {},
   "outputs": [
    {
     "name": "stdout",
     "output_type": "stream",
     "text": [
      "          aerolinea                                            Resumen  \\\n",
      "0         Envoy Air  Envoy Air[2]​ (anteriormente American Eagle Ai...   \n",
      "1  SkyWest Airlines  SkyWest Airlines, Inc. es una de las dos aerol...   \n",
      "2      PSA Airlines  PSA Airlines is an American regional airline h...   \n",
      "3      Endeavor Air  Endeavor Air is an American regional airline h...   \n",
      "4     Mesa Airlines  Mesa Airlines, Inc. (NASDAQ: MESA) es una aero...   \n",
      "\n",
      "                                          Imagen_URL  \n",
      "0  https://upload.wikimedia.org/wikipedia/commons...  \n",
      "1  https://upload.wikimedia.org/wikipedia/commons...  \n",
      "2                                                     \n",
      "3  https://upload.wikimedia.org/wikipedia/commons...  \n",
      "4  https://upload.wikimedia.org/wikipedia/commons...  \n"
     ]
    }
   ],
   "source": [
    "for index, row in df_aerolineas_unicas.iterrows():\n",
    "    # Verifica si la fila no tiene datos en 'Resumen' o 'Imagen_URL'\n",
    "    if pd.isnull(row['Resumen']) or row['Resumen'] == '' or pd.isnull(row['Imagen_URL']) or row['Imagen_URL'] == '':\n",
    "        resumen, imagen_url = obtener_info_wikipedia(row['aerolinea'], idioma='en')  # Cambia a inglés\n",
    "        df_aerolineas_unicas.at[index, 'Resumen'] = resumen if resumen != '' else df_aerolineas_unicas.at[index, 'Resumen']\n",
    "        df_aerolineas_unicas.at[index, 'Imagen_URL'] = imagen_url if imagen_url != '' else df_aerolineas_unicas.at[index, 'Imagen_URL']\n",
    "\n",
    "# Verificar el DataFrame actualizado\n",
    "print(df_aerolineas_unicas.head())\n"
   ]
  },
  {
   "cell_type": "code",
   "execution_count": 18,
   "metadata": {},
   "outputs": [
    {
     "name": "stdout",
     "output_type": "stream",
     "text": [
      "      aerolinea                                            Resumen  \\\n",
      "2  PSA Airlines  PSA Airlines is an American regional airline h...   \n",
      "\n",
      "                                          Imagen_URL  \n",
      "2  https://en.wikipedia.org/wiki/PSA_Airlines#/me...  \n"
     ]
    }
   ],
   "source": [
    "\n",
    "# URL de la imagen que quieres añadir\n",
    "url_imagen_psa = \"https://en.wikipedia.org/wiki/PSA_Airlines#/media/File:Dornier_328-110,_US_Airways_Express_(PSA_Airlines)_AN0175474.jpg\"\n",
    "\n",
    "# Actualizar la columna 'Imagen_URL' para 'PSA Airlines'\n",
    "df_aerolineas_unicas.loc[df_aerolineas_unicas['aerolinea'] == 'PSA Airlines', 'Imagen_URL'] = url_imagen_psa\n",
    "\n",
    "# Verificar el cambio\n",
    "print(df_aerolineas_unicas[df_aerolineas_unicas['aerolinea'] == 'PSA Airlines'])\n"
   ]
  },
  {
   "cell_type": "code",
   "execution_count": 21,
   "metadata": {},
   "outputs": [],
   "source": [
    "df_aerolineas_unicas.to_pickle('C:/Users/34670/Desktop/python/Hack a boss/proyecto_3/streamlit/proyecto_aviones/data/aerolineas_unicos.pkl')"
   ]
  },
  {
   "cell_type": "code",
   "execution_count": 14,
   "metadata": {},
   "outputs": [],
   "source": [
    "df_aerolineas_unicas.to_excel('C:/Users/34670/Desktop/python/Hack a boss/proyecto_3/streamlit/proyecto_aviones/data/aerolineas_unicos.xlsx')"
   ]
  },
  {
   "cell_type": "code",
   "execution_count": 20,
   "metadata": {},
   "outputs": [],
   "source": [
    "df_aerolineas_unicas = pd.read_excel(r'C:/Users/34670/Desktop/python/Hack a boss/proyecto_3/streamlit/proyecto_aviones/data/aerolineas_unicos_2.xlsx')"
   ]
  },
  {
   "cell_type": "code",
   "execution_count": 22,
   "metadata": {},
   "outputs": [
    {
     "data": {
      "text/plain": [
       "Index(['aerolinea', 'Resumen', 'IATA', 'ICAO', 'country', 'founded',\n",
       "       'started_operations', 'Group', 'Base', 'fleet_size',\n",
       "       'average_fleet_Age', 'official_site'],\n",
       "      dtype='object')"
      ]
     },
     "execution_count": 22,
     "metadata": {},
     "output_type": "execute_result"
    }
   ],
   "source": [
    "df_aerolineas_unicas.columns"
   ]
  }
 ],
 "metadata": {
  "kernelspec": {
   "display_name": "Python 3",
   "language": "python",
   "name": "python3"
  },
  "language_info": {
   "codemirror_mode": {
    "name": "ipython",
    "version": 3
   },
   "file_extension": ".py",
   "mimetype": "text/x-python",
   "name": "python",
   "nbconvert_exporter": "python",
   "pygments_lexer": "ipython3",
   "version": "3.11.9"
  }
 },
 "nbformat": 4,
 "nbformat_minor": 2
}
