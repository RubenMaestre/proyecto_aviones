{
 "cells": [
  {
   "cell_type": "code",
   "execution_count": 8,
   "metadata": {},
   "outputs": [],
   "source": [
    "from bs4 import BeautifulSoup\n",
    "from selenium import webdriver\n",
    "from selenium.webdriver.common.by import By\n",
    "from selenium.webdriver.support.ui import Select\n",
    "from time import sleep\n",
    "import numpy as np\n",
    "import pandas as pd\n",
    "import re\n",
    "import requests\n",
    "from selenium.webdriver.support.ui import WebDriverWait\n",
    "from selenium.webdriver.support import expected_conditions as EC\n",
    "from selenium.common.exceptions import NoSuchElementException\n",
    "from selenium.common.exceptions import TimeoutException\n"
   ]
  },
  {
   "cell_type": "code",
   "execution_count": 9,
   "metadata": {},
   "outputs": [],
   "source": [
    "url = \"https://www.transtats.bts.gov/ONTIME/Departures.aspx\"\n",
    "\n",
    "def obtener_opciones(url, aeropuertos_aerolineas):\n",
    "    response = requests.get(url)\n",
    "    soup = BeautifulSoup(response.text, 'html.parser')\n",
    "    seleccionar_aeropuerto_aerolinea = soup.find(\"select\", attrs={\"name\": aeropuertos_aerolineas})\n",
    "    opciones = seleccionar_aeropuerto_aerolinea.find_all(\"option\")\n",
    "    listado_opciones = [opcion.text for opcion in opciones]\n",
    "    return listado_opciones\n",
    "\n",
    "listado_aeropuertos = obtener_opciones(url, \"cboAirport\")\n",
    "listado_aerolineas = obtener_opciones(url, \"cboAirline\")"
   ]
  },
  {
   "cell_type": "code",
   "execution_count": 5,
   "metadata": {},
   "outputs": [],
   "source": [
    "def seleccionar_por_indice(url, nombre_seleccionado, lista_elementos):\n",
    "    driver = webdriver.Firefox()\n",
    "    driver.get(url)\n",
    "\n",
    "    seleccion = Select(driver.find_element(By.NAME, nombre_seleccionado))\n",
    "    for elemento in lista_elementos:\n",
    "        seleccion.select_by_visible_text(elemento)\n",
    "        sleep(1) "
   ]
  },
  {
   "cell_type": "code",
   "execution_count": 6,
   "metadata": {},
   "outputs": [],
   "source": [
    "\n",
    "\n",
    "def preselecciones(driver):\n",
    "    driver.find_element(By.ID, \"chkAllStatistics\").click() #click_all_statics\n",
    "    driver.find_element(By.ID, \"chkAllDays\").click() #click_all_days\n",
    "    driver.find_element(By.ID, \"chkMonths_11\").click() #click_mes_diciembre\n",
    "    \n",
    "    # Selecciona 2021, 22 y 23\n",
    "    driver.find_element(By.ID, \"chkYears_34\").click()\n",
    "    driver.find_element(By.ID, \"chkYears_35\").click() \n",
    "    driver.find_element(By.ID, \"chkYears_36\").click() "
   ]
  },
  {
   "cell_type": "code",
   "execution_count": 9,
   "metadata": {},
   "outputs": [],
   "source": [
    "driver = webdriver.Firefox()\n",
    "driver.get(url)\n",
    "\n",
    "preselecciones(driver)\n",
    "\n",
    "for aeropuerto in listado_aeropuertos:\n",
    "    select_aeropuerto = Select(driver.find_element(By.NAME, \"cboAirport\"))\n",
    "    select_aeropuerto.select_by_visible_text(aeropuerto)\n",
    "    # sleep(1)\n",
    "    for aerolinea in listado_aerolineas:\n",
    "        select_aerolinea = Select(driver.find_element(By.NAME, \"cboAirline\"))\n",
    "        select_aerolinea.select_by_visible_text(aerolinea)\n",
    "    \n",
    "        click_submit = driver.find_element(By.ID, \"btnSubmit\").click()\n",
    "        \n",
    "        # sleep(1)\n",
    "        #el codigo de abajo hace una flecha hacia abajo,\n",
    "        driver.execute_script(\"window.scrollBy(0, 200);\")\n",
    "        try:\n",
    "            element = WebDriverWait(driver, 3).until(\n",
    "            EC.presence_of_element_located((By.ID, \"DL_CSV\")))\n",
    "            # sleep(1)\n",
    "            element.click()\n",
    "        except:\n",
    "            pass\n",
    "\n",
    "driver.quit()\n"
   ]
  }
 ],
 "metadata": {
  "kernelspec": {
   "display_name": "Python 3",
   "language": "python",
   "name": "python3"
  },
  "language_info": {
   "codemirror_mode": {
    "name": "ipython",
    "version": 3
   },
   "file_extension": ".py",
   "mimetype": "text/x-python",
   "name": "python",
   "nbconvert_exporter": "python",
   "pygments_lexer": "ipython3",
   "version": "3.11.4"
  }
 },
 "nbformat": 4,
 "nbformat_minor": 2
}
