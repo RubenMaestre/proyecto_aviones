{
 "cells": [
  {
   "cell_type": "markdown",
   "metadata": {},
   "source": [
    "Este notebook no se integró en Streamlit, pero se intento obtener mejores metricas que Machine Learning"
   ]
  },
  {
   "cell_type": "code",
   "execution_count": 1,
   "metadata": {},
   "outputs": [],
   "source": [
    "import numpy as np\n",
    "import pandas as pd\n",
    "from collections import Counter\n",
    "import itertools\n",
    "import pickle\n",
    "\n",
    "# Gráficos\n",
    "import matplotlib.pyplot as plt\n",
    "import seaborn as sns\n",
    "import plotly.express as px\n",
    "\n",
    "# Métodos de Validación\n",
    "from sklearn.model_selection import train_test_split\n",
    "\n",
    "# Métricas para Clasificación\n",
    "from sklearn.metrics import jaccard_score\n",
    "from sklearn.metrics import accuracy_score\n",
    "from sklearn.metrics import precision_score\n",
    "from sklearn.metrics import recall_score\n",
    "from sklearn.metrics import f1_score\n",
    "from sklearn.metrics import roc_auc_score\n",
    "from sklearn.metrics import confusion_matrix\n",
    "from sklearn.metrics import classification_report\n",
    "from sklearn.metrics import roc_curve, auc\n",
    "\n",
    "# OverSampling y UnderSampling\n",
    "from imblearn.over_sampling import SMOTE\n",
    "from imblearn.under_sampling import RandomUnderSampler\n",
    "from imblearn.pipeline import Pipeline\n",
    "\n",
    "#RNN\n",
    "from sklearn.preprocessing import StandardScaler\n",
    "from keras.models import Sequential\n",
    "from keras.layers import Dense, Dropout\n",
    "from keras.callbacks import EarlyStopping\n",
    "from keras.optimizers import Adam\n",
    "from keras.layers import Dense,GRU, Input\n",
    "from keras.layers import LeakyReLU\n",
    "from tensorflow.keras.metrics import Accuracy, Precision, Recall"
   ]
  },
  {
   "cell_type": "code",
   "execution_count": 2,
   "metadata": {},
   "outputs": [],
   "source": [
    "df = pd.read_pickle(r'C:\\Users\\Nahuel\\Documents\\hack_a_boss\\mod7-streamlit-main\\proyecto_aviones\\data\\pickle\\vuelos_limpio.pkl')"
   ]
  },
  {
   "cell_type": "code",
   "execution_count": 3,
   "metadata": {},
   "outputs": [],
   "source": [
    "# Creamos la columna target y ya la binarizamos\n",
    "df[\"llega_tarde\"] = np.where(df['retraso_llegada'] > 15, 'si', 'no')\n",
    "df['llega_tarde'] = df['llega_tarde'].map({'si': 1, 'no': 0})"
   ]
  },
  {
   "cell_type": "code",
   "execution_count": 4,
   "metadata": {},
   "outputs": [],
   "source": [
    "# # Eliminamos las columnas que no aportan información extra y retraso en la llegada para que no prediga el 100% de las veces y mes que solo tiene 1 valor\n",
    "columnas_eliminar = [\n",
    "    \"latitude_destino\",\n",
    "    \"latitude_origen\",\n",
    "    \"longitude_destino\",\n",
    "    \"longitude_origen\",\n",
    "    \"codigo_aeropuerto_destino\",\n",
    "    \"codigo_aeropuerto_origen\",\n",
    "    \"direccion_destino\",\n",
    "    \"direccion_origen\",\n",
    "    \"retraso_llegada\",\n",
    "    \"hora_llegada_real\",\n",
    "    \"mes\",\n",
    "    'retraso_salida',\n",
    "    'tiempo_retraso_aerolinea',\n",
    "    'tiempo_retraso_sistema_aviacion',\n",
    "    'hora_salida_real', \n",
    "    'hora_despegue', \n",
    "    'tiempo_pista_salida', \n",
    "    'duracion_real',\n",
    "    'tiempo_retraso_clima',\n",
    "    'festivos',\n",
    "    'tiempo_retraso_seguridad']\n",
    "\n",
    "df.drop(columns=columnas_eliminar, inplace=True)"
   ]
  },
  {
   "cell_type": "code",
   "execution_count": 5,
   "metadata": {},
   "outputs": [
    {
     "data": {
      "text/html": [
       "<div>\n",
       "<style scoped>\n",
       "    .dataframe tbody tr th:only-of-type {\n",
       "        vertical-align: middle;\n",
       "    }\n",
       "\n",
       "    .dataframe tbody tr th {\n",
       "        vertical-align: top;\n",
       "    }\n",
       "\n",
       "    .dataframe thead th {\n",
       "        text-align: right;\n",
       "    }\n",
       "</style>\n",
       "<table border=\"1\" class=\"dataframe\">\n",
       "  <thead>\n",
       "    <tr style=\"text-align: right;\">\n",
       "      <th></th>\n",
       "      <th>llega_tarde</th>\n",
       "      <th>0</th>\n",
       "    </tr>\n",
       "  </thead>\n",
       "  <tbody>\n",
       "    <tr>\n",
       "      <th>0</th>\n",
       "      <td>0</td>\n",
       "      <td>1560966</td>\n",
       "    </tr>\n",
       "    <tr>\n",
       "      <th>1</th>\n",
       "      <td>1</td>\n",
       "      <td>131510</td>\n",
       "    </tr>\n",
       "  </tbody>\n",
       "</table>\n",
       "</div>"
      ],
      "text/plain": [
       "   llega_tarde        0\n",
       "0            0  1560966\n",
       "1            1   131510"
      ]
     },
     "execution_count": 5,
     "metadata": {},
     "output_type": "execute_result"
    }
   ],
   "source": [
    "df.groupby('llega_tarde').size().reset_index()"
   ]
  },
  {
   "cell_type": "code",
   "execution_count": 6,
   "metadata": {},
   "outputs": [],
   "source": [
    "# Cambiamos a minutos las columnas horarias\n",
    "df[\"hora_salida_programada\"] = df[\"hora_salida_programada\"].apply(lambda x: x.hour * 60 + x.minute)"
   ]
  },
  {
   "cell_type": "code",
   "execution_count": 7,
   "metadata": {},
   "outputs": [],
   "source": [
    "# Como da error el datetime de fecha, extraemos el día del mes, que es el único que nos falta, porque mes como todos tienen el mismo no hace falta\n",
    "# y sobbreescribimos la columna de fecha, \n",
    "df['fecha'] = df['fecha'].dt.day"
   ]
  },
  {
   "cell_type": "code",
   "execution_count": 8,
   "metadata": {},
   "outputs": [],
   "source": [
    "df_original = df.copy()"
   ]
  },
  {
   "cell_type": "code",
   "execution_count": 9,
   "metadata": {},
   "outputs": [],
   "source": [
    "def target_encoding(df, columna_categorica, target):\n",
    "\n",
    "    media_columna_con_target = df.groupby(columna_categorica)[target].mean()\n",
    "    df[columna_categorica] = df[columna_categorica].map(media_columna_con_target)\n",
    "    return\n",
    "\n",
    "target_encoding(df, 'aerolinea', 'llega_tarde') \n",
    "target_encoding(df, 'numero_cola', 'llega_tarde')\n",
    "target_encoding(df, 'ciudad_origen', 'llega_tarde')\n",
    "target_encoding(df, 'estado_origen', 'llega_tarde')\n",
    "target_encoding(df, 'aeropuerto_origen', 'llega_tarde')\n",
    "target_encoding(df, 'ciudad_destino', 'llega_tarde')\n",
    "target_encoding(df, 'estado_destino', 'llega_tarde')\n",
    "target_encoding(df, 'aeropuerto_destino', 'llega_tarde')"
   ]
  },
  {
   "cell_type": "markdown",
   "metadata": {},
   "source": [
    "Estos diccionarios serán necesarios a la hora de inputar datos externo al modelo de predección (para Streamlit)."
   ]
  },
  {
   "cell_type": "code",
   "execution_count": 10,
   "metadata": {},
   "outputs": [],
   "source": [
    "# Crear el diccionario de mapeo\n",
    "mapeo_aerolinea         = dict(zip(df_original['aerolinea'], df['aerolinea']))\n",
    "mapeo_numero_cola       = dict(zip(df_original['numero_cola'], df['numero_cola']))\n",
    "mapeo_ciudad_origen     = dict(zip(df_original['ciudad_origen'], df['ciudad_origen']))\n",
    "mapeo_estado_origen     = dict(zip(df_original['estado_origen'], df['estado_origen']))\n",
    "mapeo_aeropuerto_origen = dict(zip(df_original['aeropuerto_origen'], df['aeropuerto_origen']))\n",
    "mapeo_ciudad_origen     = dict(zip(df_original['ciudad_destino'], df['ciudad_destino']))\n",
    "mapeo_estado_origen     = dict(zip(df_original['estado_destino'], df['estado_destino']))\n",
    "mapeo_aeropuerto_origen = dict(zip(df_original['aeropuerto_destino'], df['aeropuerto_destino']))"
   ]
  },
  {
   "cell_type": "code",
   "execution_count": 11,
   "metadata": {},
   "outputs": [],
   "source": [
    "# Para variables discretas (tanto numéricas como categóricas, toman un conjunto finito o numerable de valores)\n",
    "\n",
    "def comparar_variable_discreta_con_target(dataframe, target_variable, variable_to_compare):\n",
    "    fig, axes = plt.subplots(1, 2, figsize=(18, 7))\n",
    "    sns.countplot(x=dataframe[variable_to_compare], ax=axes[0])\n",
    "    sns.countplot(x=dataframe[variable_to_compare], hue=dataframe[target_variable], ax=axes[1])\n",
    "    plt.show()"
   ]
  },
  {
   "cell_type": "code",
   "execution_count": 12,
   "metadata": {},
   "outputs": [],
   "source": [
    "# Para variables continuas (numéricas que pueden contener valores atípicos, que pueden variar dentro de un rango específico )\n",
    "def comparar_variable_continua_con_target(dataframe, target_variable, variable_to_compare):\n",
    "    fig, axes = plt.subplots(2, 2, figsize=(18, 11))\n",
    "    sns.boxplot(x=dataframe[variable_to_compare], ax=axes[0, 0])\n",
    "    axes[0, 0].set_title(f'{variable_to_compare} Boxplot')\n",
    "    sns.histplot(x=dataframe[variable_to_compare], ax=axes[0, 1])\n",
    "    axes[0, 1].set_title(f'{variable_to_compare} Histogram')\n",
    "    sns.boxplot(x=dataframe[target_variable], y=dataframe[variable_to_compare], ax=axes[1, 0])\n",
    "    axes[1, 0].set_title(f'{variable_to_compare} vs {target_variable}')\n",
    "    sns.histplot(x=dataframe[variable_to_compare], hue=dataframe[target_variable], ax=axes[1, 1])\n",
    "    axes[1, 1].set_title(f'{variable_to_compare} Histogram by {target_variable}')\n",
    "    plt.tight_layout()\n",
    "    plt.show()"
   ]
  },
  {
   "cell_type": "code",
   "execution_count": 13,
   "metadata": {},
   "outputs": [],
   "source": [
    "# Aplicamos logaritmo.\n",
    "\n",
    "df[\"distancia_millas\"] = np.log(df[\"distancia_millas\"] + 1) \n",
    "df['duracion_programada_vuelo'] = df[\"duracion_programada_vuelo\"].apply(lambda x: 0 if x < 0 else np.log(x+1)) "
   ]
  },
  {
   "cell_type": "markdown",
   "metadata": {},
   "source": [
    "Trás unas cuantas comprobaciones en los modelos, observamos que las métricas eran mejor cuando `distancia_millas` era la única varibale continua a la que debíamos aplicar logaritmo."
   ]
  },
  {
   "cell_type": "code",
   "execution_count": 14,
   "metadata": {},
   "outputs": [],
   "source": [
    "# Definimos la target\n",
    "\n",
    "TARGET = \"llega_tarde\"\n",
    "X = df.drop(columns = TARGET)\n",
    "y  = df[[TARGET]]"
   ]
  },
  {
   "cell_type": "code",
   "execution_count": 15,
   "metadata": {},
   "outputs": [
    {
     "name": "stdout",
     "output_type": "stream",
     "text": [
      "X_train: (1353980, 16), y_train: (1353980, 1)\n",
      "X_test: (338496, 16), y_test: (338496, 1)\n"
     ]
    }
   ],
   "source": [
    "# Definimos train y test\n",
    "\n",
    "X_train, X_test, y_train, y_test = train_test_split(X, y, test_size = 0.20, random_state = 42, stratify = y)\n",
    "print(f\"X_train: {X_train.shape}, y_train: {y_train.shape}\")\n",
    "print(f\"X_test: {X_test.shape}, y_test: {y_test.shape}\")"
   ]
  },
  {
   "cell_type": "code",
   "execution_count": 16,
   "metadata": {},
   "outputs": [
    {
     "name": "stdout",
     "output_type": "stream",
     "text": [
      "Counter({0: 1248772, 1: 105208})\n",
      "Porcentaje de \"0\": 92.23%\n",
      "Porcentaje de \"1\": 7.77%\n"
     ]
    }
   ],
   "source": [
    "# Analizamos la distribución de clases en el conjunto de datos. \n",
    "\n",
    "contador_clases= Counter([arr[0] for arr in list(y_train.values)])\n",
    "print(contador_clases)\n",
    "\n",
    "total = sum(contador_clases.values())\n",
    "for clase, count in contador_clases.items():\n",
    "    porcentaje = (count / total) * 100\n",
    "    print(f'Porcentaje de \"{clase}\": {porcentaje:.2f}%')"
   ]
  },
  {
   "cell_type": "markdown",
   "metadata": {},
   "source": [
    "### Se necesita balancear las clases porque están desbalanceadas con la técnica SMOTE (Synthetic Minority Oversampling Technique).\n",
    "### Vamos a hacerlo híbrido, combinando oversampling y undersampling."
   ]
  },
  {
   "cell_type": "code",
   "execution_count": 17,
   "metadata": {},
   "outputs": [],
   "source": [
    "# Definir las estrategias de balanceo\n",
    "undersampling = RandomUnderSampler(sampling_strategy=0.1)\n",
    "oversampling = SMOTE(sampling_strategy=0.6)\n",
    "\n",
    "# Definir la pipeline\n",
    "balance_pipeline = Pipeline([\n",
    "    ('undersampling', undersampling),\n",
    "    ('oversampling', oversampling)\n",
    "])\n",
    "\n",
    "# Aplicar la pipeline al conjunto de entrenamiento\n",
    "X_balanceado, y_balanceado = balance_pipeline.fit_resample(X_train, y_train)"
   ]
  },
  {
   "cell_type": "code",
   "execution_count": 18,
   "metadata": {},
   "outputs": [
    {
     "name": "stdout",
     "output_type": "stream",
     "text": [
      "Counter({0: 1052080, 1: 631248})\n",
      "Porcentaje de \"0\": 62.50%\n",
      "Porcentaje de \"1\": 37.50%\n"
     ]
    }
   ],
   "source": [
    "# Comprobamos que se han balanceado más \n",
    "contador_clases= Counter([arr[0] for arr in list(y_balanceado.values)])\n",
    "print(contador_clases)\n",
    "\n",
    "total = sum(contador_clases.values())\n",
    "for clase, count in contador_clases.items():\n",
    "    porcentaje = (count / total) * 100\n",
    "    print(f'Porcentaje de \"{clase}\": {porcentaje:.2f}%')"
   ]
  },
  {
   "cell_type": "code",
   "execution_count": 19,
   "metadata": {},
   "outputs": [
    {
     "data": {
      "text/plain": [
       "((1683328, 16), (1683328, 1))"
      ]
     },
     "execution_count": 19,
     "metadata": {},
     "output_type": "execute_result"
    }
   ],
   "source": [
    "X_balanceado.shape, y_balanceado.shape"
   ]
  },
  {
   "cell_type": "code",
   "execution_count": 20,
   "metadata": {},
   "outputs": [],
   "source": [
    "# Normalizar las características\n",
    "scaler = StandardScaler()\n",
    "X_train = scaler.fit_transform(X_balanceado)\n",
    "X_test = scaler.transform(X_test)"
   ]
  },
  {
   "cell_type": "code",
   "execution_count": 21,
   "metadata": {},
   "outputs": [
    {
     "name": "stdout",
     "output_type": "stream",
     "text": [
      "X_train: (1683328, 16, 1)\ty_train: (1683328, 1)\n"
     ]
    }
   ],
   "source": [
    "# Transformamos a np.array y ajustamos las dimensiones\n",
    "# Para entrar en el modelo debe de tener 3 dimensiones\n",
    "X_train_balanceado = np.array(X_train).reshape(-1, X_train.shape[1], 1)\n",
    "y_train_balanceado = np.array(y_balanceado)\n",
    "N = len(X_train_balanceado)\n",
    "\n",
    "\n",
    "print(f\"X_train: {X_train_balanceado.shape}\\ty_train: {y_train_balanceado.shape}\")"
   ]
  },
  {
   "cell_type": "code",
   "execution_count": 22,
   "metadata": {},
   "outputs": [
    {
     "name": "stdout",
     "output_type": "stream",
     "text": [
      "X_test: (338496, 16, 1)\ty_test: (338496, 1)\n"
     ]
    }
   ],
   "source": [
    "X_test_balanceado = np.array(X_test).reshape(-1, X_test.shape[1], 1)\n",
    "y_test_balanceado = np.array(y_test)\n",
    "N = len(X_test_balanceado)\n",
    "\n",
    "\n",
    "print(f\"X_test: {X_test_balanceado.shape}\\ty_test: {y_test_balanceado.shape}\")"
   ]
  },
  {
   "cell_type": "code",
   "execution_count": 23,
   "metadata": {},
   "outputs": [],
   "source": [
    "# # Definir el modelo de red neuronal\n",
    "# model = Sequential()\n",
    "\n",
    "# model.add(Input(shape = (X_train.shape[1], 1)))\n",
    "\n",
    "# model.add(GRU(units = 32, activation=\"relu\", return_sequences=False))\n",
    "# model.add(LeakyReLU(alpha = 0.1))  \n",
    "\n",
    "# model.add(Dense(units = 60, activation=\"relu\"))\n",
    "# model.add(Dense(units = 30, activation=\"relu\")) \n",
    "# model.add(Dense(units = 15, activation=\"relu\"))\n",
    "\n",
    "# model.add(Dense(units=1, activation='sigmoid'))  # Capa de salida con activación sigmoide para la clasificación binaria\n",
    "\n",
    "# # Compilar el modelo\n",
    "# model.compile(optimizer =   Adam(learning_rate = 0.0001), \n",
    "#               loss      =   'binary_crossentropy', \n",
    "#               metrics   =   ['accuracy'])"
   ]
  },
  {
   "cell_type": "code",
   "execution_count": 32,
   "metadata": {},
   "outputs": [
    {
     "name": "stderr",
     "output_type": "stream",
     "text": [
      "c:\\Users\\Nahuel\\AppData\\Local\\Programs\\Python\\Python311\\Lib\\site-packages\\keras\\src\\layers\\activations\\leaky_relu.py:41: UserWarning: Argument `alpha` is deprecated. Use `negative_slope` instead.\n",
      "  warnings.warn(\n"
     ]
    }
   ],
   "source": [
    "from tensorflow.keras.models import Sequential\n",
    "from tensorflow.keras.layers import Input, GRU, Dense, LeakyReLU, Dropout\n",
    "from tensorflow.keras.optimizers import Adam\n",
    "from tensorflow.keras import regularizers\n",
    "# Definir el modelo de red neuronal\n",
    "model = Sequential()\n",
    "model.add(Input(shape=(X_train.shape[1], 1)))\n",
    "model.add(GRU(units=32, activation=\"relu\", return_sequences=False))\n",
    "model.add(LeakyReLU(alpha=0.1))\n",
    "model.add(Dropout(0.5))  # Agregamos dropout para regularización\n",
    "model.add(Dense(units=60, activation=\"relu\"))\n",
    "model.add(Dropout(0.5))  # Más dropout para regularización\n",
    "model.add(Dense(units=30, activation=\"relu\"))\n",
    "model.add(Dropout(0.5))  # Más dropout para regularización\n",
    "model.add(Dense(units=15, activation=\"relu\"))\n",
    "model.add(Dropout(0.5))  # Más dropout para regularización\n",
    "model.add(Dense(units=1, activation='sigmoid'))  # Capa de salida con activación sigmoide para la clasificación binaria\n",
    "# Compilar el modelo\n",
    "model.compile(optimizer=Adam(learning_rate=0.00001),\n",
    "              loss='binary_crossentropy',\n",
    "              metrics=['accuracy'])"
   ]
  },
  {
   "cell_type": "code",
   "execution_count": 33,
   "metadata": {},
   "outputs": [
    {
     "data": {
      "text/html": [
       "<pre style=\"white-space:pre;overflow-x:auto;line-height:normal;font-family:Menlo,'DejaVu Sans Mono',consolas,'Courier New',monospace\"><span style=\"font-weight: bold\">Model: \"sequential_2\"</span>\n",
       "</pre>\n"
      ],
      "text/plain": [
       "\u001b[1mModel: \"sequential_2\"\u001b[0m\n"
      ]
     },
     "metadata": {},
     "output_type": "display_data"
    },
    {
     "data": {
      "text/html": [
       "<pre style=\"white-space:pre;overflow-x:auto;line-height:normal;font-family:Menlo,'DejaVu Sans Mono',consolas,'Courier New',monospace\">┏━━━━━━━━━━━━━━━━━━━━━━━━━━━━━━━━━┳━━━━━━━━━━━━━━━━━━━━━━━━┳━━━━━━━━━━━━━━━┓\n",
       "┃<span style=\"font-weight: bold\"> Layer (type)                    </span>┃<span style=\"font-weight: bold\"> Output Shape           </span>┃<span style=\"font-weight: bold\">       Param # </span>┃\n",
       "┡━━━━━━━━━━━━━━━━━━━━━━━━━━━━━━━━━╇━━━━━━━━━━━━━━━━━━━━━━━━╇━━━━━━━━━━━━━━━┩\n",
       "│ gru_2 (<span style=\"color: #0087ff; text-decoration-color: #0087ff\">GRU</span>)                     │ (<span style=\"color: #00d7ff; text-decoration-color: #00d7ff\">None</span>, <span style=\"color: #00af00; text-decoration-color: #00af00\">32</span>)             │         <span style=\"color: #00af00; text-decoration-color: #00af00\">3,360</span> │\n",
       "├─────────────────────────────────┼────────────────────────┼───────────────┤\n",
       "│ leaky_re_lu_2 (<span style=\"color: #0087ff; text-decoration-color: #0087ff\">LeakyReLU</span>)       │ (<span style=\"color: #00d7ff; text-decoration-color: #00d7ff\">None</span>, <span style=\"color: #00af00; text-decoration-color: #00af00\">32</span>)             │             <span style=\"color: #00af00; text-decoration-color: #00af00\">0</span> │\n",
       "├─────────────────────────────────┼────────────────────────┼───────────────┤\n",
       "│ dropout_8 (<span style=\"color: #0087ff; text-decoration-color: #0087ff\">Dropout</span>)             │ (<span style=\"color: #00d7ff; text-decoration-color: #00d7ff\">None</span>, <span style=\"color: #00af00; text-decoration-color: #00af00\">32</span>)             │             <span style=\"color: #00af00; text-decoration-color: #00af00\">0</span> │\n",
       "├─────────────────────────────────┼────────────────────────┼───────────────┤\n",
       "│ dense_8 (<span style=\"color: #0087ff; text-decoration-color: #0087ff\">Dense</span>)                 │ (<span style=\"color: #00d7ff; text-decoration-color: #00d7ff\">None</span>, <span style=\"color: #00af00; text-decoration-color: #00af00\">60</span>)             │         <span style=\"color: #00af00; text-decoration-color: #00af00\">1,980</span> │\n",
       "├─────────────────────────────────┼────────────────────────┼───────────────┤\n",
       "│ dropout_9 (<span style=\"color: #0087ff; text-decoration-color: #0087ff\">Dropout</span>)             │ (<span style=\"color: #00d7ff; text-decoration-color: #00d7ff\">None</span>, <span style=\"color: #00af00; text-decoration-color: #00af00\">60</span>)             │             <span style=\"color: #00af00; text-decoration-color: #00af00\">0</span> │\n",
       "├─────────────────────────────────┼────────────────────────┼───────────────┤\n",
       "│ dense_9 (<span style=\"color: #0087ff; text-decoration-color: #0087ff\">Dense</span>)                 │ (<span style=\"color: #00d7ff; text-decoration-color: #00d7ff\">None</span>, <span style=\"color: #00af00; text-decoration-color: #00af00\">30</span>)             │         <span style=\"color: #00af00; text-decoration-color: #00af00\">1,830</span> │\n",
       "├─────────────────────────────────┼────────────────────────┼───────────────┤\n",
       "│ dropout_10 (<span style=\"color: #0087ff; text-decoration-color: #0087ff\">Dropout</span>)            │ (<span style=\"color: #00d7ff; text-decoration-color: #00d7ff\">None</span>, <span style=\"color: #00af00; text-decoration-color: #00af00\">30</span>)             │             <span style=\"color: #00af00; text-decoration-color: #00af00\">0</span> │\n",
       "├─────────────────────────────────┼────────────────────────┼───────────────┤\n",
       "│ dense_10 (<span style=\"color: #0087ff; text-decoration-color: #0087ff\">Dense</span>)                │ (<span style=\"color: #00d7ff; text-decoration-color: #00d7ff\">None</span>, <span style=\"color: #00af00; text-decoration-color: #00af00\">15</span>)             │           <span style=\"color: #00af00; text-decoration-color: #00af00\">465</span> │\n",
       "├─────────────────────────────────┼────────────────────────┼───────────────┤\n",
       "│ dropout_11 (<span style=\"color: #0087ff; text-decoration-color: #0087ff\">Dropout</span>)            │ (<span style=\"color: #00d7ff; text-decoration-color: #00d7ff\">None</span>, <span style=\"color: #00af00; text-decoration-color: #00af00\">15</span>)             │             <span style=\"color: #00af00; text-decoration-color: #00af00\">0</span> │\n",
       "├─────────────────────────────────┼────────────────────────┼───────────────┤\n",
       "│ dense_11 (<span style=\"color: #0087ff; text-decoration-color: #0087ff\">Dense</span>)                │ (<span style=\"color: #00d7ff; text-decoration-color: #00d7ff\">None</span>, <span style=\"color: #00af00; text-decoration-color: #00af00\">1</span>)              │            <span style=\"color: #00af00; text-decoration-color: #00af00\">16</span> │\n",
       "└─────────────────────────────────┴────────────────────────┴───────────────┘\n",
       "</pre>\n"
      ],
      "text/plain": [
       "┏━━━━━━━━━━━━━━━━━━━━━━━━━━━━━━━━━┳━━━━━━━━━━━━━━━━━━━━━━━━┳━━━━━━━━━━━━━━━┓\n",
       "┃\u001b[1m \u001b[0m\u001b[1mLayer (type)                   \u001b[0m\u001b[1m \u001b[0m┃\u001b[1m \u001b[0m\u001b[1mOutput Shape          \u001b[0m\u001b[1m \u001b[0m┃\u001b[1m \u001b[0m\u001b[1m      Param #\u001b[0m\u001b[1m \u001b[0m┃\n",
       "┡━━━━━━━━━━━━━━━━━━━━━━━━━━━━━━━━━╇━━━━━━━━━━━━━━━━━━━━━━━━╇━━━━━━━━━━━━━━━┩\n",
       "│ gru_2 (\u001b[38;5;33mGRU\u001b[0m)                     │ (\u001b[38;5;45mNone\u001b[0m, \u001b[38;5;34m32\u001b[0m)             │         \u001b[38;5;34m3,360\u001b[0m │\n",
       "├─────────────────────────────────┼────────────────────────┼───────────────┤\n",
       "│ leaky_re_lu_2 (\u001b[38;5;33mLeakyReLU\u001b[0m)       │ (\u001b[38;5;45mNone\u001b[0m, \u001b[38;5;34m32\u001b[0m)             │             \u001b[38;5;34m0\u001b[0m │\n",
       "├─────────────────────────────────┼────────────────────────┼───────────────┤\n",
       "│ dropout_8 (\u001b[38;5;33mDropout\u001b[0m)             │ (\u001b[38;5;45mNone\u001b[0m, \u001b[38;5;34m32\u001b[0m)             │             \u001b[38;5;34m0\u001b[0m │\n",
       "├─────────────────────────────────┼────────────────────────┼───────────────┤\n",
       "│ dense_8 (\u001b[38;5;33mDense\u001b[0m)                 │ (\u001b[38;5;45mNone\u001b[0m, \u001b[38;5;34m60\u001b[0m)             │         \u001b[38;5;34m1,980\u001b[0m │\n",
       "├─────────────────────────────────┼────────────────────────┼───────────────┤\n",
       "│ dropout_9 (\u001b[38;5;33mDropout\u001b[0m)             │ (\u001b[38;5;45mNone\u001b[0m, \u001b[38;5;34m60\u001b[0m)             │             \u001b[38;5;34m0\u001b[0m │\n",
       "├─────────────────────────────────┼────────────────────────┼───────────────┤\n",
       "│ dense_9 (\u001b[38;5;33mDense\u001b[0m)                 │ (\u001b[38;5;45mNone\u001b[0m, \u001b[38;5;34m30\u001b[0m)             │         \u001b[38;5;34m1,830\u001b[0m │\n",
       "├─────────────────────────────────┼────────────────────────┼───────────────┤\n",
       "│ dropout_10 (\u001b[38;5;33mDropout\u001b[0m)            │ (\u001b[38;5;45mNone\u001b[0m, \u001b[38;5;34m30\u001b[0m)             │             \u001b[38;5;34m0\u001b[0m │\n",
       "├─────────────────────────────────┼────────────────────────┼───────────────┤\n",
       "│ dense_10 (\u001b[38;5;33mDense\u001b[0m)                │ (\u001b[38;5;45mNone\u001b[0m, \u001b[38;5;34m15\u001b[0m)             │           \u001b[38;5;34m465\u001b[0m │\n",
       "├─────────────────────────────────┼────────────────────────┼───────────────┤\n",
       "│ dropout_11 (\u001b[38;5;33mDropout\u001b[0m)            │ (\u001b[38;5;45mNone\u001b[0m, \u001b[38;5;34m15\u001b[0m)             │             \u001b[38;5;34m0\u001b[0m │\n",
       "├─────────────────────────────────┼────────────────────────┼───────────────┤\n",
       "│ dense_11 (\u001b[38;5;33mDense\u001b[0m)                │ (\u001b[38;5;45mNone\u001b[0m, \u001b[38;5;34m1\u001b[0m)              │            \u001b[38;5;34m16\u001b[0m │\n",
       "└─────────────────────────────────┴────────────────────────┴───────────────┘\n"
      ]
     },
     "metadata": {},
     "output_type": "display_data"
    },
    {
     "data": {
      "text/html": [
       "<pre style=\"white-space:pre;overflow-x:auto;line-height:normal;font-family:Menlo,'DejaVu Sans Mono',consolas,'Courier New',monospace\"><span style=\"font-weight: bold\"> Total params: </span><span style=\"color: #00af00; text-decoration-color: #00af00\">7,651</span> (29.89 KB)\n",
       "</pre>\n"
      ],
      "text/plain": [
       "\u001b[1m Total params: \u001b[0m\u001b[38;5;34m7,651\u001b[0m (29.89 KB)\n"
      ]
     },
     "metadata": {},
     "output_type": "display_data"
    },
    {
     "data": {
      "text/html": [
       "<pre style=\"white-space:pre;overflow-x:auto;line-height:normal;font-family:Menlo,'DejaVu Sans Mono',consolas,'Courier New',monospace\"><span style=\"font-weight: bold\"> Trainable params: </span><span style=\"color: #00af00; text-decoration-color: #00af00\">7,651</span> (29.89 KB)\n",
       "</pre>\n"
      ],
      "text/plain": [
       "\u001b[1m Trainable params: \u001b[0m\u001b[38;5;34m7,651\u001b[0m (29.89 KB)\n"
      ]
     },
     "metadata": {},
     "output_type": "display_data"
    },
    {
     "data": {
      "text/html": [
       "<pre style=\"white-space:pre;overflow-x:auto;line-height:normal;font-family:Menlo,'DejaVu Sans Mono',consolas,'Courier New',monospace\"><span style=\"font-weight: bold\"> Non-trainable params: </span><span style=\"color: #00af00; text-decoration-color: #00af00\">0</span> (0.00 B)\n",
       "</pre>\n"
      ],
      "text/plain": [
       "\u001b[1m Non-trainable params: \u001b[0m\u001b[38;5;34m0\u001b[0m (0.00 B)\n"
      ]
     },
     "metadata": {},
     "output_type": "display_data"
    }
   ],
   "source": [
    "# Mostrar arquitectura\n",
    "model.summary()"
   ]
  },
  {
   "cell_type": "code",
   "execution_count": 34,
   "metadata": {},
   "outputs": [
    {
     "name": "stdout",
     "output_type": "stream",
     "text": [
      "Epoch 1/1000\n",
      "\u001b[1m1644/1644\u001b[0m \u001b[32m━━━━━━━━━━━━━━━━━━━━\u001b[0m\u001b[37m\u001b[0m \u001b[1m20s\u001b[0m 12ms/step - accuracy: 0.5847 - loss: 0.6783 - val_accuracy: 0.9223 - val_loss: 0.5854\n",
      "Epoch 2/1000\n",
      "\u001b[1m1644/1644\u001b[0m \u001b[32m━━━━━━━━━━━━━━━━━━━━\u001b[0m\u001b[37m\u001b[0m \u001b[1m19s\u001b[0m 12ms/step - accuracy: 0.6156 - loss: 0.6677 - val_accuracy: 0.9223 - val_loss: 0.5701\n",
      "Epoch 3/1000\n",
      "\u001b[1m1644/1644\u001b[0m \u001b[32m━━━━━━━━━━━━━━━━━━━━\u001b[0m\u001b[37m\u001b[0m \u001b[1m22s\u001b[0m 13ms/step - accuracy: 0.6215 - loss: 0.6643 - val_accuracy: 0.9223 - val_loss: 0.5622\n",
      "Epoch 4/1000\n",
      "\u001b[1m1644/1644\u001b[0m \u001b[32m━━━━━━━━━━━━━━━━━━━━\u001b[0m\u001b[37m\u001b[0m \u001b[1m19s\u001b[0m 11ms/step - accuracy: 0.6238 - loss: 0.6620 - val_accuracy: 0.9223 - val_loss: 0.5587\n",
      "Epoch 5/1000\n",
      "\u001b[1m1644/1644\u001b[0m \u001b[32m━━━━━━━━━━━━━━━━━━━━\u001b[0m\u001b[37m\u001b[0m \u001b[1m19s\u001b[0m 11ms/step - accuracy: 0.6251 - loss: 0.6602 - val_accuracy: 0.9223 - val_loss: 0.5563\n",
      "Epoch 6/1000\n",
      "\u001b[1m1644/1644\u001b[0m \u001b[32m━━━━━━━━━━━━━━━━━━━━\u001b[0m\u001b[37m\u001b[0m \u001b[1m19s\u001b[0m 11ms/step - accuracy: 0.6239 - loss: 0.6596 - val_accuracy: 0.9223 - val_loss: 0.5531\n",
      "Epoch 7/1000\n",
      "\u001b[1m1644/1644\u001b[0m \u001b[32m━━━━━━━━━━━━━━━━━━━━\u001b[0m\u001b[37m\u001b[0m \u001b[1m19s\u001b[0m 11ms/step - accuracy: 0.6246 - loss: 0.6582 - val_accuracy: 0.9223 - val_loss: 0.5508\n",
      "Epoch 8/1000\n",
      "\u001b[1m1644/1644\u001b[0m \u001b[32m━━━━━━━━━━━━━━━━━━━━\u001b[0m\u001b[37m\u001b[0m \u001b[1m19s\u001b[0m 12ms/step - accuracy: 0.6251 - loss: 0.6566 - val_accuracy: 0.9223 - val_loss: 0.5490\n",
      "Epoch 9/1000\n",
      "\u001b[1m1644/1644\u001b[0m \u001b[32m━━━━━━━━━━━━━━━━━━━━\u001b[0m\u001b[37m\u001b[0m \u001b[1m19s\u001b[0m 12ms/step - accuracy: 0.6250 - loss: 0.6551 - val_accuracy: 0.9223 - val_loss: 0.5456\n",
      "Epoch 10/1000\n",
      "\u001b[1m1644/1644\u001b[0m \u001b[32m━━━━━━━━━━━━━━━━━━━━\u001b[0m\u001b[37m\u001b[0m \u001b[1m20s\u001b[0m 12ms/step - accuracy: 0.6245 - loss: 0.6527 - val_accuracy: 0.9223 - val_loss: 0.5337\n",
      "Epoch 11/1000\n",
      "\u001b[1m1644/1644\u001b[0m \u001b[32m━━━━━━━━━━━━━━━━━━━━\u001b[0m\u001b[37m\u001b[0m \u001b[1m20s\u001b[0m 12ms/step - accuracy: 0.6244 - loss: 0.6460 - val_accuracy: 0.9223 - val_loss: 0.5331\n",
      "Epoch 12/1000\n",
      "\u001b[1m1644/1644\u001b[0m \u001b[32m━━━━━━━━━━━━━━━━━━━━\u001b[0m\u001b[37m\u001b[0m \u001b[1m19s\u001b[0m 12ms/step - accuracy: 0.6243 - loss: 0.6389 - val_accuracy: 0.9223 - val_loss: 0.5371\n",
      "Epoch 13/1000\n",
      "\u001b[1m1644/1644\u001b[0m \u001b[32m━━━━━━━━━━━━━━━━━━━━\u001b[0m\u001b[37m\u001b[0m \u001b[1m19s\u001b[0m 12ms/step - accuracy: 0.6251 - loss: 0.6337 - val_accuracy: 0.9223 - val_loss: 0.5460\n",
      "Epoch 14/1000\n",
      "\u001b[1m1644/1644\u001b[0m \u001b[32m━━━━━━━━━━━━━━━━━━━━\u001b[0m\u001b[37m\u001b[0m \u001b[1m19s\u001b[0m 11ms/step - accuracy: 0.6246 - loss: 0.6302 - val_accuracy: 0.9223 - val_loss: 0.5479\n",
      "Epoch 15/1000\n",
      "\u001b[1m1644/1644\u001b[0m \u001b[32m━━━━━━━━━━━━━━━━━━━━\u001b[0m\u001b[37m\u001b[0m \u001b[1m19s\u001b[0m 11ms/step - accuracy: 0.6249 - loss: 0.6270 - val_accuracy: 0.9223 - val_loss: 0.5527\n",
      "Epoch 16/1000\n",
      "\u001b[1m1644/1644\u001b[0m \u001b[32m━━━━━━━━━━━━━━━━━━━━\u001b[0m\u001b[37m\u001b[0m \u001b[1m20s\u001b[0m 12ms/step - accuracy: 0.6250 - loss: 0.6247 - val_accuracy: 0.9223 - val_loss: 0.5570\n",
      "Epoch 17/1000\n",
      "\u001b[1m1644/1644\u001b[0m \u001b[32m━━━━━━━━━━━━━━━━━━━━\u001b[0m\u001b[37m\u001b[0m \u001b[1m19s\u001b[0m 12ms/step - accuracy: 0.6249 - loss: 0.6224 - val_accuracy: 0.9223 - val_loss: 0.5595\n",
      "Epoch 18/1000\n",
      "\u001b[1m1644/1644\u001b[0m \u001b[32m━━━━━━━━━━━━━━━━━━━━\u001b[0m\u001b[37m\u001b[0m \u001b[1m19s\u001b[0m 12ms/step - accuracy: 0.6250 - loss: 0.6190 - val_accuracy: 0.9223 - val_loss: 0.5613\n",
      "Epoch 19/1000\n",
      "\u001b[1m1644/1644\u001b[0m \u001b[32m━━━━━━━━━━━━━━━━━━━━\u001b[0m\u001b[37m\u001b[0m \u001b[1m19s\u001b[0m 11ms/step - accuracy: 0.6249 - loss: 0.6170 - val_accuracy: 0.9223 - val_loss: 0.5629\n",
      "Epoch 20/1000\n",
      "\u001b[1m1644/1644\u001b[0m \u001b[32m━━━━━━━━━━━━━━━━━━━━\u001b[0m\u001b[37m\u001b[0m \u001b[1m19s\u001b[0m 11ms/step - accuracy: 0.6252 - loss: 0.6155 - val_accuracy: 0.9223 - val_loss: 0.5623\n",
      "Epoch 21/1000\n",
      "\u001b[1m1644/1644\u001b[0m \u001b[32m━━━━━━━━━━━━━━━━━━━━\u001b[0m\u001b[37m\u001b[0m \u001b[1m19s\u001b[0m 11ms/step - accuracy: 0.6250 - loss: 0.6142 - val_accuracy: 0.9223 - val_loss: 0.5625\n",
      "Epoch 22/1000\n",
      "\u001b[1m1644/1644\u001b[0m \u001b[32m━━━━━━━━━━━━━━━━━━━━\u001b[0m\u001b[37m\u001b[0m \u001b[1m19s\u001b[0m 11ms/step - accuracy: 0.6246 - loss: 0.6120 - val_accuracy: 0.9223 - val_loss: 0.5617\n",
      "Epoch 23/1000\n",
      "\u001b[1m1644/1644\u001b[0m \u001b[32m━━━━━━━━━━━━━━━━━━━━\u001b[0m\u001b[37m\u001b[0m \u001b[1m19s\u001b[0m 12ms/step - accuracy: 0.6241 - loss: 0.6109 - val_accuracy: 0.9223 - val_loss: 0.5621\n",
      "Epoch 24/1000\n",
      "\u001b[1m1644/1644\u001b[0m \u001b[32m━━━━━━━━━━━━━━━━━━━━\u001b[0m\u001b[37m\u001b[0m \u001b[1m19s\u001b[0m 12ms/step - accuracy: 0.6252 - loss: 0.6099 - val_accuracy: 0.9223 - val_loss: 0.5635\n",
      "Epoch 25/1000\n",
      "\u001b[1m1644/1644\u001b[0m \u001b[32m━━━━━━━━━━━━━━━━━━━━\u001b[0m\u001b[37m\u001b[0m \u001b[1m19s\u001b[0m 12ms/step - accuracy: 0.6249 - loss: 0.6083 - val_accuracy: 0.9223 - val_loss: 0.5631\n",
      "Epoch 26/1000\n",
      "\u001b[1m1644/1644\u001b[0m \u001b[32m━━━━━━━━━━━━━━━━━━━━\u001b[0m\u001b[37m\u001b[0m \u001b[1m19s\u001b[0m 12ms/step - accuracy: 0.6249 - loss: 0.6073 - val_accuracy: 0.9223 - val_loss: 0.5659\n",
      "Epoch 27/1000\n",
      "\u001b[1m1644/1644\u001b[0m \u001b[32m━━━━━━━━━━━━━━━━━━━━\u001b[0m\u001b[37m\u001b[0m \u001b[1m19s\u001b[0m 12ms/step - accuracy: 0.6250 - loss: 0.6069 - val_accuracy: 0.9223 - val_loss: 0.5647\n",
      "Epoch 28/1000\n",
      "\u001b[1m1644/1644\u001b[0m \u001b[32m━━━━━━━━━━━━━━━━━━━━\u001b[0m\u001b[37m\u001b[0m \u001b[1m19s\u001b[0m 11ms/step - accuracy: 0.6249 - loss: 0.6057 - val_accuracy: 0.9223 - val_loss: 0.5660\n",
      "Epoch 29/1000\n",
      "\u001b[1m1644/1644\u001b[0m \u001b[32m━━━━━━━━━━━━━━━━━━━━\u001b[0m\u001b[37m\u001b[0m \u001b[1m19s\u001b[0m 12ms/step - accuracy: 0.6251 - loss: 0.6040 - val_accuracy: 0.9223 - val_loss: 0.5636\n",
      "Epoch 30/1000\n",
      "\u001b[1m1644/1644\u001b[0m \u001b[32m━━━━━━━━━━━━━━━━━━━━\u001b[0m\u001b[37m\u001b[0m \u001b[1m19s\u001b[0m 11ms/step - accuracy: 0.6247 - loss: 0.6040 - val_accuracy: 0.9223 - val_loss: 0.5655\n",
      "Epoch 31/1000\n",
      "\u001b[1m1644/1644\u001b[0m \u001b[32m━━━━━━━━━━━━━━━━━━━━\u001b[0m\u001b[37m\u001b[0m \u001b[1m19s\u001b[0m 12ms/step - accuracy: 0.6279 - loss: 0.6028 - val_accuracy: 0.7509 - val_loss: 0.5635\n",
      "Epoch 32/1000\n",
      "\u001b[1m1644/1644\u001b[0m \u001b[32m━━━━━━━━━━━━━━━━━━━━\u001b[0m\u001b[37m\u001b[0m \u001b[1m19s\u001b[0m 12ms/step - accuracy: 0.6640 - loss: 0.6020 - val_accuracy: 0.7147 - val_loss: 0.5652\n",
      "Epoch 33/1000\n",
      "\u001b[1m1644/1644\u001b[0m \u001b[32m━━━━━━━━━━━━━━━━━━━━\u001b[0m\u001b[37m\u001b[0m \u001b[1m19s\u001b[0m 11ms/step - accuracy: 0.6692 - loss: 0.6003 - val_accuracy: 0.6929 - val_loss: 0.5645\n",
      "Epoch 34/1000\n",
      "\u001b[1m1644/1644\u001b[0m \u001b[32m━━━━━━━━━━━━━━━━━━━━\u001b[0m\u001b[37m\u001b[0m \u001b[1m19s\u001b[0m 11ms/step - accuracy: 0.6724 - loss: 0.6005 - val_accuracy: 0.6813 - val_loss: 0.5651\n",
      "Epoch 35/1000\n",
      "\u001b[1m1644/1644\u001b[0m \u001b[32m━━━━━━━━━━━━━━━━━━━━\u001b[0m\u001b[37m\u001b[0m \u001b[1m19s\u001b[0m 11ms/step - accuracy: 0.6751 - loss: 0.5996 - val_accuracy: 0.6702 - val_loss: 0.5659\n",
      "Epoch 36/1000\n",
      "\u001b[1m1644/1644\u001b[0m \u001b[32m━━━━━━━━━━━━━━━━━━━━\u001b[0m\u001b[37m\u001b[0m \u001b[1m19s\u001b[0m 11ms/step - accuracy: 0.6774 - loss: 0.5986 - val_accuracy: 0.6560 - val_loss: 0.5682\n",
      "Epoch 37/1000\n",
      "\u001b[1m1644/1644\u001b[0m \u001b[32m━━━━━━━━━━━━━━━━━━━━\u001b[0m\u001b[37m\u001b[0m \u001b[1m19s\u001b[0m 11ms/step - accuracy: 0.6795 - loss: 0.5977 - val_accuracy: 0.6462 - val_loss: 0.5681\n",
      "Epoch 38/1000\n",
      "\u001b[1m1644/1644\u001b[0m \u001b[32m━━━━━━━━━━━━━━━━━━━━\u001b[0m\u001b[37m\u001b[0m \u001b[1m19s\u001b[0m 11ms/step - accuracy: 0.6817 - loss: 0.5965 - val_accuracy: 0.6443 - val_loss: 0.5661\n",
      "Epoch 39/1000\n",
      "\u001b[1m1644/1644\u001b[0m \u001b[32m━━━━━━━━━━━━━━━━━━━━\u001b[0m\u001b[37m\u001b[0m \u001b[1m19s\u001b[0m 11ms/step - accuracy: 0.6837 - loss: 0.5956 - val_accuracy: 0.6388 - val_loss: 0.5659\n",
      "Epoch 40/1000\n",
      "\u001b[1m1644/1644\u001b[0m \u001b[32m━━━━━━━━━━━━━━━━━━━━\u001b[0m\u001b[37m\u001b[0m \u001b[1m19s\u001b[0m 11ms/step - accuracy: 0.6853 - loss: 0.5943 - val_accuracy: 0.6335 - val_loss: 0.5657\n",
      "Epoch 41/1000\n",
      "\u001b[1m1644/1644\u001b[0m \u001b[32m━━━━━━━━━━━━━━━━━━━━\u001b[0m\u001b[37m\u001b[0m \u001b[1m19s\u001b[0m 11ms/step - accuracy: 0.6856 - loss: 0.5939 - val_accuracy: 0.6248 - val_loss: 0.5691\n",
      "Epoch 42/1000\n",
      "\u001b[1m1644/1644\u001b[0m \u001b[32m━━━━━━━━━━━━━━━━━━━━\u001b[0m\u001b[37m\u001b[0m \u001b[1m19s\u001b[0m 11ms/step - accuracy: 0.6871 - loss: 0.5934 - val_accuracy: 0.6331 - val_loss: 0.5620\n",
      "Epoch 43/1000\n",
      "\u001b[1m1644/1644\u001b[0m \u001b[32m━━━━━━━━━━━━━━━━━━━━\u001b[0m\u001b[37m\u001b[0m \u001b[1m19s\u001b[0m 11ms/step - accuracy: 0.6879 - loss: 0.5930 - val_accuracy: 0.6154 - val_loss: 0.5688\n",
      "Epoch 44/1000\n",
      "\u001b[1m1644/1644\u001b[0m \u001b[32m━━━━━━━━━━━━━━━━━━━━\u001b[0m\u001b[37m\u001b[0m \u001b[1m19s\u001b[0m 11ms/step - accuracy: 0.6885 - loss: 0.5924 - val_accuracy: 0.6125 - val_loss: 0.5691\n",
      "Epoch 45/1000\n",
      "\u001b[1m1644/1644\u001b[0m \u001b[32m━━━━━━━━━━━━━━━━━━━━\u001b[0m\u001b[37m\u001b[0m \u001b[1m19s\u001b[0m 11ms/step - accuracy: 0.6902 - loss: 0.5921 - val_accuracy: 0.6091 - val_loss: 0.5701\n",
      "Epoch 46/1000\n",
      "\u001b[1m1644/1644\u001b[0m \u001b[32m━━━━━━━━━━━━━━━━━━━━\u001b[0m\u001b[37m\u001b[0m \u001b[1m19s\u001b[0m 11ms/step - accuracy: 0.6906 - loss: 0.5908 - val_accuracy: 0.6049 - val_loss: 0.5697\n",
      "Epoch 47/1000\n",
      "\u001b[1m1644/1644\u001b[0m \u001b[32m━━━━━━━━━━━━━━━━━━━━\u001b[0m\u001b[37m\u001b[0m \u001b[1m19s\u001b[0m 11ms/step - accuracy: 0.6922 - loss: 0.5896 - val_accuracy: 0.6009 - val_loss: 0.5713\n",
      "Epoch 48/1000\n",
      "\u001b[1m1644/1644\u001b[0m \u001b[32m━━━━━━━━━━━━━━━━━━━━\u001b[0m\u001b[37m\u001b[0m \u001b[1m19s\u001b[0m 11ms/step - accuracy: 0.6928 - loss: 0.5888 - val_accuracy: 0.5955 - val_loss: 0.5727\n",
      "Epoch 49/1000\n",
      "\u001b[1m1644/1644\u001b[0m \u001b[32m━━━━━━━━━━━━━━━━━━━━\u001b[0m\u001b[37m\u001b[0m \u001b[1m19s\u001b[0m 11ms/step - accuracy: 0.6937 - loss: 0.5879 - val_accuracy: 0.6021 - val_loss: 0.5681\n",
      "Epoch 50/1000\n",
      "\u001b[1m1644/1644\u001b[0m \u001b[32m━━━━━━━━━━━━━━━━━━━━\u001b[0m\u001b[37m\u001b[0m \u001b[1m19s\u001b[0m 11ms/step - accuracy: 0.6944 - loss: 0.5877 - val_accuracy: 0.6045 - val_loss: 0.5671\n",
      "Epoch 51/1000\n",
      "\u001b[1m1644/1644\u001b[0m \u001b[32m━━━━━━━━━━━━━━━━━━━━\u001b[0m\u001b[37m\u001b[0m \u001b[1m19s\u001b[0m 11ms/step - accuracy: 0.6941 - loss: 0.5879 - val_accuracy: 0.5919 - val_loss: 0.5717\n",
      "Epoch 52/1000\n",
      "\u001b[1m1644/1644\u001b[0m \u001b[32m━━━━━━━━━━━━━━━━━━━━\u001b[0m\u001b[37m\u001b[0m \u001b[1m19s\u001b[0m 11ms/step - accuracy: 0.6950 - loss: 0.5872 - val_accuracy: 0.5917 - val_loss: 0.5709\n",
      "Epoch 53/1000\n",
      "\u001b[1m1644/1644\u001b[0m \u001b[32m━━━━━━━━━━━━━━━━━━━━\u001b[0m\u001b[37m\u001b[0m \u001b[1m19s\u001b[0m 11ms/step - accuracy: 0.6958 - loss: 0.5863 - val_accuracy: 0.5878 - val_loss: 0.5717\n",
      "Epoch 54/1000\n",
      "\u001b[1m1644/1644\u001b[0m \u001b[32m━━━━━━━━━━━━━━━━━━━━\u001b[0m\u001b[37m\u001b[0m \u001b[1m19s\u001b[0m 11ms/step - accuracy: 0.6957 - loss: 0.5857 - val_accuracy: 0.5882 - val_loss: 0.5723\n",
      "Epoch 55/1000\n",
      "\u001b[1m1644/1644\u001b[0m \u001b[32m━━━━━━━━━━━━━━━━━━━━\u001b[0m\u001b[37m\u001b[0m \u001b[1m19s\u001b[0m 11ms/step - accuracy: 0.6964 - loss: 0.5856 - val_accuracy: 0.5792 - val_loss: 0.5770\n",
      "Epoch 56/1000\n",
      "\u001b[1m1644/1644\u001b[0m \u001b[32m━━━━━━━━━━━━━━━━━━━━\u001b[0m\u001b[37m\u001b[0m \u001b[1m19s\u001b[0m 11ms/step - accuracy: 0.6976 - loss: 0.5841 - val_accuracy: 0.5753 - val_loss: 0.5788\n",
      "Epoch 57/1000\n",
      "\u001b[1m1644/1644\u001b[0m \u001b[32m━━━━━━━━━━━━━━━━━━━━\u001b[0m\u001b[37m\u001b[0m \u001b[1m19s\u001b[0m 11ms/step - accuracy: 0.6985 - loss: 0.5839 - val_accuracy: 0.5808 - val_loss: 0.5754\n",
      "Epoch 58/1000\n",
      "\u001b[1m1644/1644\u001b[0m \u001b[32m━━━━━━━━━━━━━━━━━━━━\u001b[0m\u001b[37m\u001b[0m \u001b[1m19s\u001b[0m 11ms/step - accuracy: 0.6990 - loss: 0.5829 - val_accuracy: 0.5750 - val_loss: 0.5774\n",
      "Epoch 59/1000\n",
      "\u001b[1m1644/1644\u001b[0m \u001b[32m━━━━━━━━━━━━━━━━━━━━\u001b[0m\u001b[37m\u001b[0m \u001b[1m19s\u001b[0m 11ms/step - accuracy: 0.6990 - loss: 0.5824 - val_accuracy: 0.5738 - val_loss: 0.5777\n",
      "Epoch 60/1000\n",
      "\u001b[1m1644/1644\u001b[0m \u001b[32m━━━━━━━━━━━━━━━━━━━━\u001b[0m\u001b[37m\u001b[0m \u001b[1m19s\u001b[0m 11ms/step - accuracy: 0.6996 - loss: 0.5817 - val_accuracy: 0.5769 - val_loss: 0.5771\n",
      "Epoch 61/1000\n",
      "\u001b[1m1644/1644\u001b[0m \u001b[32m━━━━━━━━━━━━━━━━━━━━\u001b[0m\u001b[37m\u001b[0m \u001b[1m19s\u001b[0m 11ms/step - accuracy: 0.6999 - loss: 0.5813 - val_accuracy: 0.5839 - val_loss: 0.5722\n"
     ]
    }
   ],
   "source": [
    "# Definir Callbacks\n",
    "callback_val_loss = EarlyStopping(monitor = \"val_loss\", patience = 50)\n",
    "\n",
    "# Entrenar el modelo\n",
    "history = model.fit(X_train_balanceado, y_train_balanceado, epochs = 1_000, batch_size = 1_024, validation_data=(X_test_balanceado, y_test_balanceado), callbacks=[callback_val_loss])"
   ]
  },
  {
   "cell_type": "code",
   "execution_count": 35,
   "metadata": {},
   "outputs": [
    {
     "name": "stdout",
     "output_type": "stream",
     "text": [
      "\u001b[1m10578/10578\u001b[0m \u001b[32m━━━━━━━━━━━━━━━━━━━━\u001b[0m\u001b[37m\u001b[0m \u001b[1m8s\u001b[0m 776us/step - accuracy: 0.5838 - loss: 0.5722\n",
      "Loss: 0.5722055435180664, Accuracy: 0.5839448571205139\n",
      "\u001b[1m10578/10578\u001b[0m \u001b[32m━━━━━━━━━━━━━━━━━━━━\u001b[0m\u001b[37m\u001b[0m \u001b[1m8s\u001b[0m 761us/step\n"
     ]
    }
   ],
   "source": [
    "# Evaluar el modelo\n",
    "loss, accuracy = model.evaluate(X_test_balanceado, y_test_balanceado)\n",
    "print(f'Loss: {loss}, Accuracy: {accuracy}')\n",
    "\n",
    "# Hacer predicciones\n",
    "predictions = model.predict(X_test_balanceado)"
   ]
  },
  {
   "cell_type": "code",
   "execution_count": 36,
   "metadata": {},
   "outputs": [
    {
     "name": "stdout",
     "output_type": "stream",
     "text": [
      "\u001b[1m10578/10578\u001b[0m \u001b[32m━━━━━━━━━━━━━━━━━━━━\u001b[0m\u001b[37m\u001b[0m \u001b[1m8s\u001b[0m 773us/step\n"
     ]
    },
    {
     "data": {
      "image/png": "[encoded data removed]",
      "text/plain": [
       "<Figure size 1200x400 with 3 Axes>"
      ]
     },
     "metadata": {},
     "output_type": "display_data"
    }
   ],
   "source": [
    "# Visualizar métricas de entrenamiento\n",
    "plt.figure(figsize=(12, 4))\n",
    "\n",
    "# Loss\n",
    "plt.subplot(1, 3, 1)\n",
    "plt.plot(history.history['loss'],       label = 'Training Loss')\n",
    "plt.plot(history.history['val_loss'],   label = 'Validation Loss')\n",
    "plt.xlabel('Epochs')\n",
    "plt.ylabel('Loss')\n",
    "plt.title('Training and Validation Loss')\n",
    "plt.legend()\n",
    "\n",
    "# Accuracy\n",
    "plt.subplot(1, 3, 2)\n",
    "plt.plot(history.history['accuracy'],       label = 'Training Accuracy')\n",
    "plt.plot(history.history['val_accuracy'],   label ='Validation Accuracy')\n",
    "plt.xlabel('Epochs')\n",
    "plt.ylabel('Accuracy')\n",
    "plt.title('Training and Validation Accuracy')\n",
    "plt.legend()\n",
    "\n",
    "# Precisión, Recall y Exactitud\n",
    "# Calcular las predicciones\n",
    "y_pred = model.predict(X_test_balanceado)\n",
    "y_pred_binary = (y_pred > 0.5).astype(int)\n",
    "\n",
    "precision   = precision_score(y_test_balanceado, y_pred_binary)\n",
    "recall      = recall_score(y_test_balanceado, y_pred_binary)\n",
    "accuracy    = accuracy_score(y_test_balanceado, y_pred_binary)\n",
    "\n",
    "plt.subplot(1, 3, 3)\n",
    "plt.bar(['Precision', 'Recall', 'Accuracy'], [precision, recall, accuracy])\n",
    "plt.ylabel('Score')\n",
    "plt.title('Precision, Recall, and Accuracy')\n",
    "\n",
    "plt.tight_layout()\n",
    "plt.show()"
   ]
  },
  {
   "cell_type": "markdown",
   "metadata": {},
   "source": [
    "Luego de ver estas graficas, optamos por mantener el modelo de clasificacion."
   ]
  },
  {
   "cell_type": "markdown",
   "metadata": {},
   "source": []
  }
 ],
 "metadata": {
  "kernelspec": {
   "display_name": "Python 3",
   "language": "python",
   "name": "python3"
  },
  "language_info": {
   "codemirror_mode": {
    "name": "ipython",
    "version": 3
   },
   "file_extension": ".py",
   "mimetype": "text/x-python",
   "name": "python",
   "nbconvert_exporter": "python",
   "pygments_lexer": "ipython3",
   "version": "3.11.8"
  }
 },
 "nbformat": 4,
 "nbformat_minor": 2
}
